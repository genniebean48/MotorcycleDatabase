{
  "nbformat": 4,
  "nbformat_minor": 0,
  "metadata": {
    "colab": {
      "name": "Zero Motorcycle Data Analysis",
      "provenance": [],
      "collapsed_sections": [],
      "toc_visible": true,
      "include_colab_link": true
    },
    "kernelspec": {
      "name": "python3",
      "display_name": "Python 3"
    },
    "accelerator": "GPU"
  },
  "cells": [
    {
      "cell_type": "markdown",
      "metadata": {
        "id": "view-in-github",
        "colab_type": "text"
      },
      "source": [
        "<a href=\"https://colab.research.google.com/github/genniebean48/MotorcycleDatabase/blob/master/Zero_Motorcycle_Data_Analysis.ipynb\" target=\"_parent\"><img src=\"https://colab.research.google.com/assets/colab-badge.svg\" alt=\"Open In Colab\"/></a>"
      ]
    },
    {
      "cell_type": "markdown",
      "metadata": {
        "id": "_G3HGUGTftvG",
        "colab_type": "text"
      },
      "source": [
        "#<center>**Zero Motorcycle Data Analysis </center>**\n",
        "[<center> https://www.zeromotorcycles.com/](https://www.zeromotorcycles.com/</center>)\n",
        "\n",
        "\n",
        "![alt text](http://www.logo-designer.co/wp-content/uploads/2018/06/2018-zero-motorcycles-new-logo-design-2.png)\n",
        "\n",
        "\n"
      ]
    },
    {
      "cell_type": "code",
      "metadata": {
        "id": "xIocSAG8lIyc",
        "colab_type": "code",
        "colab": {}
      },
      "source": [
        "import pandas as pd\n",
        "from google.colab import files\n",
        "uploaded = files.upload()\n",
        "\n",
        "import io\n",
        "\n",
        "df2 = pd.read_csv(io.BytesIO(uploaded['Charging.csv']))\n"
      ],
      "execution_count": 0,
      "outputs": []
    },
    {
      "cell_type": "code",
      "metadata": {
        "id": "w_ieTQS8o7c5",
        "colab_type": "code",
        "outputId": "bba0b37c-2287-4b31-9f1e-63f26b0ca713",
        "colab": {
          "base_uri": "https://localhost:8080/",
          "height": 122
        }
      },
      "source": [
        "from google.colab import drive\n",
        "drive.mount('/content/drive')\n"
      ],
      "execution_count": 0,
      "outputs": [
        {
          "output_type": "stream",
          "text": [
            "Go to this URL in a browser: https://accounts.google.com/o/oauth2/auth?client_id=947318989803-6bn6qk8qdgf4n4g3pfee6491hc0brc4i.apps.googleusercontent.com&redirect_uri=urn%3Aietf%3Awg%3Aoauth%3A2.0%3Aoob&scope=email%20https%3A%2F%2Fwww.googleapis.com%2Fauth%2Fdocs.test%20https%3A%2F%2Fwww.googleapis.com%2Fauth%2Fdrive%20https%3A%2F%2Fwww.googleapis.com%2Fauth%2Fdrive.photos.readonly%20https%3A%2F%2Fwww.googleapis.com%2Fauth%2Fpeopleapi.readonly&response_type=code\n",
            "\n",
            "Enter your authorization code:\n",
            "··········\n",
            "Mounted at /content/drive\n"
          ],
          "name": "stdout"
        }
      ]
    },
    {
      "cell_type": "markdown",
      "metadata": {
        "id": "8y8Z4_AVcxnt",
        "colab_type": "text"
      },
      "source": [
        "## **Total Number of Events**\n",
        "This SQL query counts the number of events in each table. The first row is the number of Riding events, the second is the number of Charging events, then Debug events, then Disarmed events, then key events, then Info events, then Power events and finally Sevcon events. "
      ]
    },
    {
      "cell_type": "code",
      "metadata": {
        "id": "aCcDeU9Hjo0g",
        "colab_type": "code",
        "outputId": "1c5532d7-0fb4-4bf2-b508-60d5acffdc31",
        "colab": {
          "base_uri": "https://localhost:8080/",
          "height": 34
        }
      },
      "source": [
        "import sqlite3\n",
        "bikesdb = sqlite3.connect('/content/Bikes.DB')\n",
        "table = bikesdb.execute('SELECT Count(event), \"Riding\" FROM Events WHERE event = \"Riding\"')# Union SELECT Count(event) FROM Events WHERE event = \"Charging\" Union SELECT Count(event) FROM Events WHERE event = \"DEBUG:\" Union SELECT Count(event) FROM Events WHERE event = \"Disarmed\" Union SELECT Count(event) FROM Events WHERE event = \"Key\" Union SELECT Count(event) FROM Events WHERE event = \"INFO:\" Union SELECT Count(event) FROM Events WHERE event = \"Power\" Union SELECT Count(event) FROM Events WHERE event = \"Sevcon\"')\n",
        "data = table.fetchall()\n",
        "\n",
        "for row in data:\n",
        "    row = str(row).strip('(),')\n",
        "    print(row)     \n"
      ],
      "execution_count": 0,
      "outputs": [
        {
          "output_type": "stream",
          "text": [
            "41270, 'Riding'\n"
          ],
          "name": "stdout"
        }
      ]
    },
    {
      "cell_type": "markdown",
      "metadata": {
        "id": "wdoZJa6TBkbv",
        "colab_type": "text"
      },
      "source": [
        "## Average Ride Distance\n",
        "This query returns the average distance a motorcycle covers for the duration of a ride. This distance is measured in kilometers. The query takes into account and separates the different ride events in a single file. \n",
        "\n"
      ]
    },
    {
      "cell_type": "code",
      "metadata": {
        "id": "qzEF-4WlCYcj",
        "colab_type": "code",
        "outputId": "6c5a4310-9bf5-4202-9549-8c0afcbb13e6",
        "colab": {
          "base_uri": "https://localhost:8080/",
          "height": 34
        }
      },
      "source": [
        "import sqlite3\n",
        "bikesdb = sqlite3.connect('/content/Bikes.DB')\n",
        "table = bikesdb.execute('SELECT avg(Odometer) FROM(SELECT Vin, RideNum, count(Sequence), (max(Odo) - min(Odo)) as \"Odometer\" FROM Riding GROUP BY Vin, RideNum)')\n",
        "data = table.fetchall()\n",
        "\n",
        "for row in data:\n",
        "    row = str(row).strip('(),')\n",
        "    row = float(row)\n",
        "    row = round(row, 2)\n",
        "    row = str(row) + 'km'\n",
        "    print(row)"
      ],
      "execution_count": 0,
      "outputs": [
        {
          "output_type": "stream",
          "text": [
            "32.26km\n"
          ],
          "name": "stdout"
        }
      ]
    },
    {
      "cell_type": "markdown",
      "metadata": {
        "id": "gRhPocvib_ES",
        "colab_type": "text"
      },
      "source": [
        "## **Average State of Charge**\n",
        "This section of code calculates the average state of charge a zero motorcycle maintains during their Riding and Disarmed events. The first row of the table is the average state of charge for all of the Riding events, and the second row is the average state of charge for all of the Disarmed events. "
      ]
    },
    {
      "cell_type": "code",
      "metadata": {
        "id": "EHNEzsmdbS2Z",
        "colab_type": "code",
        "outputId": "540d1bd7-ccf2-413c-db21-b58ffa8c5ec8",
        "colab": {
          "base_uri": "https://localhost:8080/",
          "height": 51
        }
      },
      "source": [
        "import sqlite3\n",
        "bikesdb = sqlite3.connect('/content/Bikes.DB')\n",
        "table = bikesdb.execute('SELECT avg(PackSOC) FROM Riding UNION SELECT avg(PackSOC) FROM Disarmed')\n",
        "data = table.fetchall()\n",
        "\n",
        "for row in data:\n",
        "    row = str(row).strip('(),' + 'column')\n",
        "    row = float(row)\n",
        "    row = round(row, 2)\n",
        "    row = str(row) + ('%')\n",
        "    print(row)"
      ],
      "execution_count": 0,
      "outputs": [
        {
          "output_type": "stream",
          "text": [
            "72.23%\n",
            "72.94%\n"
          ],
          "name": "stdout"
        }
      ]
    },
    {
      "cell_type": "markdown",
      "metadata": {
        "id": "8ODOmO2TGpUB",
        "colab_type": "text"
      },
      "source": [
        "## Average SOC After a Charging Session\n",
        "This SQL query calculates the average SOC user charges their bikes back up. This code separates the charging series from each of the files to take into account the multiple charging session per file/motorcycle.\n"
      ]
    },
    {
      "cell_type": "code",
      "metadata": {
        "id": "615T_WzEHBxR",
        "colab_type": "code",
        "outputId": "d7ff25aa-3347-419f-94e0-e748365624f5",
        "colab": {
          "base_uri": "https://localhost:8080/",
          "height": 34
        }
      },
      "source": [
        "import sqlite3\n",
        "bikesdb = sqlite3.connect('/content/Bikes.DB')\n",
        "table = bikesdb.execute('SELECT avg(Charge) FROM(SELECT Vin, ChargeNum, count(Sequence), max(PackSOC) as \"Charge\" FROM Charging GROUP BY Vin, ChargeNum)')\n",
        "data = table.fetchall()\n",
        "\n",
        "for row in data:\n",
        "    row = str(row).strip('(),')\n",
        "    row = float(row)\n",
        "    row = round(row, 2)\n",
        "    row = str(row) + ('%')\n",
        "    print(row)"
      ],
      "execution_count": 0,
      "outputs": [
        {
          "output_type": "stream",
          "text": [
            "82.71%\n"
          ],
          "name": "stdout"
        }
      ]
    },
    {
      "cell_type": "markdown",
      "metadata": {
        "id": "c63lJZ4KHEbD",
        "colab_type": "text"
      },
      "source": [
        "## Average Ride Distance For Each Month\n",
        "This SQL query is calculates the average ride distance in a given month. This is aimed to research whether or not riders will go farther in the summer time vs. the winter, vs. the spring or the fall. "
      ]
    }
  ]
}